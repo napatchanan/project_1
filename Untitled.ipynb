{
 "cells": [
  {
   "cell_type": "code",
   "execution_count": 1,
   "metadata": {},
   "outputs": [],
   "source": [
    "import pandas as pd\n",
    "import numpy as np\n",
    "import re\n",
    "\n",
    "pd.set_option('display.max_columns', 100)\n",
    "pd.set_option('display.max_rows', 50)\n",
    "% matplotlib inline"
   ]
  },
  {
   "cell_type": "code",
   "execution_count": 2,
   "metadata": {},
   "outputs": [
    {
     "name": "stdout",
     "output_type": "stream",
     "text": [
      "166\n",
      "214\n",
      "272\n",
      "242\n",
      "236\n",
      "235\n",
      "267\n",
      "211\n",
      "195\n",
      "204\n",
      "181\n",
      "204\n",
      "218\n"
     ]
    }
   ],
   "source": [
    "date = ['20200519.csv', '20200520.csv', '20200521.csv','20200522.csv', '20200523.csv', '20200524.csv',\n",
    "       '20200525.csv', '20200526.csv', '20200527.csv','20200528.csv', '20200529.csv', '20200530.csv',\n",
    "       '20200531.csv']  \n",
    "\n",
    "tempPD = pd.DataFrame()\n",
    "for i in date:\n",
    "    data = pd.read_csv(i)\n",
    "    tempArray = []\n",
    "    tempDict = {}\n",
    "    for temp in data.values:\n",
    "        if temp[2] == 'event':\n",
    "            tempDict['event'] = temp[3]\n",
    "        elif temp[2] == 'user_id':\n",
    "            tempDict['user_id'] = temp[3]\n",
    "        elif temp[2] == 'campaign':\n",
    "            tempDict['campaign'] = temp[3]\n",
    "        elif temp[2] == 'firebase_screen_class':\n",
    "            tempDict['date'] = temp[0]\n",
    "            tempDict['advertise_page'] = temp[1]\n",
    "            tempDict['Platform'] = temp[4]\n",
    "            tempArray.append(tempDict)\n",
    "            tempDict = {}\n",
    "\n",
    "\n",
    "    m = pd.DataFrame(tempArray)\n",
    "\n",
    "    m = m[m.campaign.isin(['neo_money'])]\n",
    "#     print(len(m[m.event == 'show']))\n",
    "#     print(len(m[m.event == 'click']))\n",
    "#     print(len(m[m.event == 'show'].user_id.unique()))\n",
    "    print(len(m[m.event == 'click'].user_id.unique()))"
   ]
  },
  {
   "cell_type": "code",
   "execution_count": 3,
   "metadata": {},
   "outputs": [],
   "source": [
    "## cumulative"
   ]
  },
  {
   "cell_type": "code",
   "execution_count": 4,
   "metadata": {},
   "outputs": [
    {
     "name": "stdout",
     "output_type": "stream",
     "text": [
      "2621\n",
      "3885\n",
      "4663\n",
      "5188\n",
      "5579\n",
      "5964\n",
      "6320\n",
      "6646\n",
      "6896\n",
      "7163\n",
      "7443\n",
      "7699\n",
      "7936\n"
     ]
    }
   ],
   "source": [
    "date = ['20200519.csv', '20200520.csv', '20200521.csv','20200522.csv', '20200523.csv', '20200524.csv',\n",
    "       '20200525.csv', '20200526.csv', '20200527.csv','20200528.csv', '20200529.csv', '20200530.csv',\n",
    "       '20200531.csv']  \n",
    "\n",
    "\n",
    "tempPD = pd.DataFrame()\n",
    "for i in date:\n",
    "    data = pd.read_csv(i)\n",
    "    tempArray = []\n",
    "    tempDict = {}\n",
    "    for temp in data.values:\n",
    "        if temp[2] == 'event':\n",
    "            tempDict['event'] = temp[3]\n",
    "        elif temp[2] == 'user_id':\n",
    "            tempDict['user_id'] = temp[3]\n",
    "        elif temp[2] == 'campaign':\n",
    "            tempDict['campaign'] = temp[3]\n",
    "        elif temp[2] == 'firebase_screen_class':\n",
    "            tempDict['date'] = temp[0]\n",
    "            tempDict['advertise_page'] = temp[1]\n",
    "            tempDict['Platform'] = temp[4]\n",
    "            tempArray.append(tempDict)\n",
    "            tempDict = {}\n",
    "\n",
    "\n",
    "    m = pd.DataFrame(tempArray)\n",
    "    m = m[m.campaign.isin(['neo_money'])]\n",
    "\n",
    "    tempPD =  tempPD.append([m])\n",
    "\n",
    "\n",
    "    print(len(tempPD[tempPD.event == 'show'].user_id.unique()))\n",
    "#     print(len(tempPD[tempPD.event == 'click'].user_id.unique()))"
   ]
  },
  {
   "cell_type": "code",
   "execution_count": 5,
   "metadata": {},
   "outputs": [],
   "source": []
  },
  {
   "cell_type": "code",
   "execution_count": 12,
   "metadata": {},
   "outputs": [],
   "source": [
    "id_neo_click = tempPD[tempPD.event == 'click'].user_id.unique()"
   ]
  },
  {
   "cell_type": "code",
   "execution_count": null,
   "metadata": {},
   "outputs": [],
   "source": [
    "mail_bata.to_csv('Andriod_beta_tester.csv',index_label = False)"
   ]
  }
 ],
 "metadata": {
  "kernelspec": {
   "display_name": "Python 3",
   "language": "python",
   "name": "python3"
  },
  "language_info": {
   "codemirror_mode": {
    "name": "ipython",
    "version": 3
   },
   "file_extension": ".py",
   "mimetype": "text/x-python",
   "name": "python",
   "nbconvert_exporter": "python",
   "pygments_lexer": "ipython3",
   "version": "3.6.5"
  }
 },
 "nbformat": 4,
 "nbformat_minor": 2
}
